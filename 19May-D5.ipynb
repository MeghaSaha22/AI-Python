{
 "cells": [
  {
   "cell_type": "markdown",
   "id": "da3878ef",
   "metadata": {},
   "source": [
    "# Neural Network\n",
    "      DEEP LEARNING\n",
    "      1)Tensorflow\n",
    "      2)Keras\n",
    "  #Anaconda powershell promt\n",
    "    > pip install tensotflow\n",
    "    > pip install keras\n",
    "   # NEURAL NETWORK - Human nerve system \n",
    "    1)ANN --> Artificial Neural Network \n",
    "    2)CNN --> Convolutional Neural Network #for detecting face and fingerptint\n",
    "    3)RNN --> Recurrent Neural Network\n",
    "    4)Boltzman Machine\n",
    "    \n",
    "    #backpropagation        \n",
    "    1)Gredient descent  W(adj) = W(current) - alpha(0.01) * derivative(loss) / derivative(W(current))\n",
    "    2)Stocastic gredient descent 3)Batch gredient descent"
   ]
  },
  {
   "cell_type": "code",
   "execution_count": 1,
   "id": "9765f53c",
   "metadata": {},
   "outputs": [
    {
     "name": "stdout",
     "output_type": "stream",
     "text": [
      "      RowNumber  CustomerId    Surname  CreditScore Geography  Gender  Age  \\\n",
      "0             1    15634602   Hargrave          619    France  Female   42   \n",
      "1             2    15647311       Hill          608     Spain  Female   41   \n",
      "2             3    15619304       Onio          502    France  Female   42   \n",
      "3             4    15701354       Boni          699    France  Female   39   \n",
      "4             5    15737888   Mitchell          850     Spain  Female   43   \n",
      "...         ...         ...        ...          ...       ...     ...  ...   \n",
      "9995       9996    15606229   Obijiaku          771    France    Male   39   \n",
      "9996       9997    15569892  Johnstone          516    France    Male   35   \n",
      "9997       9998    15584532        Liu          709    France  Female   36   \n",
      "9998       9999    15682355  Sabbatini          772   Germany    Male   42   \n",
      "9999      10000    15628319     Walker          792    France  Female   28   \n",
      "\n",
      "      Tenure    Balance  NumOfProducts  HasCrCard  IsActiveMember  \\\n",
      "0          2       0.00              1          1               1   \n",
      "1          1   83807.86              1          0               1   \n",
      "2          8  159660.80              3          1               0   \n",
      "3          1       0.00              2          0               0   \n",
      "4          2  125510.82              1          1               1   \n",
      "...      ...        ...            ...        ...             ...   \n",
      "9995       5       0.00              2          1               0   \n",
      "9996      10   57369.61              1          1               1   \n",
      "9997       7       0.00              1          0               1   \n",
      "9998       3   75075.31              2          1               0   \n",
      "9999       4  130142.79              1          1               0   \n",
      "\n",
      "      EstimatedSalary  Exited  \n",
      "0           101348.88       1  \n",
      "1           112542.58       0  \n",
      "2           113931.57       1  \n",
      "3            93826.63       0  \n",
      "4            79084.10       0  \n",
      "...               ...     ...  \n",
      "9995         96270.64       0  \n",
      "9996        101699.77       0  \n",
      "9997         42085.58       1  \n",
      "9998         92888.52       1  \n",
      "9999         38190.78       0  \n",
      "\n",
      "[10000 rows x 14 columns]\n"
     ]
    }
   ],
   "source": [
    "import pandas as pd\n",
    "df=pd.read_csv(\"Churn_Modelling.csv\")\n",
    "print(df)"
   ]
  },
  {
   "cell_type": "code",
   "execution_count": 3,
   "id": "935d8f8f",
   "metadata": {},
   "outputs": [
    {
     "name": "stdout",
     "output_type": "stream",
     "text": [
      "[[619 'France' 'Female' ... 1 1 101348.88]\n",
      " [608 'Spain' 'Female' ... 0 1 112542.58]\n",
      " [502 'France' 'Female' ... 1 0 113931.57]\n",
      " ...\n",
      " [709 'France' 'Female' ... 0 1 42085.58]\n",
      " [772 'Germany' 'Male' ... 1 0 92888.52]\n",
      " [792 'France' 'Female' ... 1 0 38190.78]]\n"
     ]
    }
   ],
   "source": [
    "x=df.iloc[:,3:13].values\n",
    "print(x)"
   ]
  },
  {
   "cell_type": "code",
   "execution_count": 4,
   "id": "26ac74a7",
   "metadata": {},
   "outputs": [
    {
     "name": "stdout",
     "output_type": "stream",
     "text": [
      "[1 0 1 ... 1 1 0]\n"
     ]
    }
   ],
   "source": [
    "y=df.iloc[:,13].values\n",
    "print(y)"
   ]
  },
  {
   "cell_type": "code",
   "execution_count": 6,
   "id": "9c64d55e",
   "metadata": {},
   "outputs": [
    {
     "name": "stdout",
     "output_type": "stream",
     "text": [
      "[0 2 0 ... 0 1 0]\n"
     ]
    }
   ],
   "source": [
    "from sklearn.preprocessing import LabelEncoder\n",
    "en1=LabelEncoder()\n",
    "x[:,1]=en1.fit_transform(x[:,1])\n",
    "print(x[:,1])"
   ]
  },
  {
   "cell_type": "code",
   "execution_count": 7,
   "id": "748b9b23",
   "metadata": {},
   "outputs": [
    {
     "name": "stdout",
     "output_type": "stream",
     "text": [
      "[0 0 0 ... 0 1 0]\n"
     ]
    }
   ],
   "source": [
    "en2=LabelEncoder()\n",
    "x[:,2]=en2.fit_transform(x[:,2])\n",
    "print(x[:,2])"
   ]
  },
  {
   "cell_type": "code",
   "execution_count": 8,
   "id": "a6743531",
   "metadata": {},
   "outputs": [
    {
     "name": "stdout",
     "output_type": "stream",
     "text": [
      "[[720 0 1 ... 1 1 14781.12]\n",
      " [577 0 0 ... 1 0 9902.39]\n",
      " [706 2 0 ... 1 0 31962.77]\n",
      " ...\n",
      " [672 0 0 ... 1 1 92027.69]\n",
      " [663 0 0 ... 1 1 101168.9]\n",
      " [763 1 1 ... 1 0 33462.94]]\n",
      "[[550 0 1 ... 1 1 97057.28]\n",
      " [680 0 1 ... 1 0 66526.01]\n",
      " [531 0 0 ... 0 1 90537.47]\n",
      " ...\n",
      " [661 0 1 ... 0 1 107243.31]\n",
      " [634 1 1 ... 1 0 115268.86]\n",
      " [509 2 1 ... 0 1 114775.53]]\n"
     ]
    }
   ],
   "source": [
    "from sklearn.model_selection import train_test_split\n",
    "x_train,x_test,y_train,y_test=train_test_split(x,y,test_size=.25,random_state=1)\n",
    "print(x_train)\n",
    "print(x_test)"
   ]
  },
  {
   "cell_type": "code",
   "execution_count": 9,
   "id": "1f92a41b",
   "metadata": {},
   "outputs": [
    {
     "name": "stdout",
     "output_type": "stream",
     "text": [
      "[[ 0.71997988 -0.90457101  0.91776859 ...  0.64262086  0.98333878\n",
      "  -1.48050131]\n",
      " [-0.75327193 -0.90457101 -1.08959928 ...  0.64262086 -1.01694352\n",
      "  -1.56523002]\n",
      " [ 0.57574543  1.51493062 -1.08959928 ...  0.64262086 -1.01694352\n",
      "  -1.18210827]\n",
      " ...\n",
      " [ 0.22546179 -0.90457101 -1.08959928 ...  0.64262086  0.98333878\n",
      "  -0.13896318]\n",
      " [ 0.13273964 -0.90457101 -1.08959928 ...  0.64262086  0.98333878\n",
      "   0.01979185]\n",
      " [ 1.16298567  0.3051798   0.91776859 ...  0.64262086 -1.01694352\n",
      "  -1.15605488]]\n"
     ]
    }
   ],
   "source": [
    "from sklearn.preprocessing import StandardScaler\n",
    "sc=StandardScaler()\n",
    "x_train=sc.fit_transform(x_train)\n",
    "print(x_train)"
   ]
  },
  {
   "cell_type": "code",
   "execution_count": 10,
   "id": "ac680bc8",
   "metadata": {},
   "outputs": [
    {
     "name": "stdout",
     "output_type": "stream",
     "text": [
      "[[-1.03143836 -0.90457101  0.91776859 ...  0.64262086  0.98333878\n",
      "  -0.05161449]\n",
      " [ 0.30788147 -0.90457101  0.91776859 ...  0.64262086 -1.01694352\n",
      "  -0.58184985]\n",
      " [-1.2271851  -0.90457101 -1.08959928 ... -1.55612752  0.98333878\n",
      "  -0.16484377]\n",
      " ...\n",
      " [ 0.11213472 -0.90457101  0.91776859 ... -1.55612752  0.98333878\n",
      "   0.12528589]\n",
      " [-0.1660317   0.3051798   0.91776859 ...  0.64262086 -1.01694352\n",
      "   0.2646653 ]\n",
      " [-1.45383923  1.51493062  0.91776859 ... -1.55612752  0.98333878\n",
      "   0.25609765]]\n"
     ]
    }
   ],
   "source": [
    "x_test=sc.transform(x_test)\n",
    "print(x_test)"
   ]
  },
  {
   "cell_type": "code",
   "execution_count": 21,
   "id": "1e396618",
   "metadata": {},
   "outputs": [],
   "source": [
    "from keras.models import Sequential\n",
    "from keras.layers import Dense\n",
    "model=Sequential()\n",
    "model.add(Dense(128,input_dim=10,activation='relu'))\n",
    "model.add(Dense(64,activation='relu'))\n",
    "model.add(Dense(64,activation='relu'))\n",
    "model.add(Dense(1,activation='sigmoid'))"
   ]
  },
  {
   "cell_type": "code",
   "execution_count": 18,
   "id": "d69eec37",
   "metadata": {},
   "outputs": [],
   "source": [
    "import tensorflow as tf\n",
    "from tensorflow import keras\n",
    "from tensorflow.keras import layers\n",
    "from tensorflow.keras.models import Sequential\n",
    "from tensorflow.keras.layers import Dense\n",
    "\n",
    "model=Sequential()\n",
    "model.add(Dense(128,input_dim=10,activation='relu'))  #activation func= update the weight"
   ]
  },
  {
   "cell_type": "code",
   "execution_count": 22,
   "id": "f91c4284",
   "metadata": {},
   "outputs": [],
   "source": [
    "from tensorflow.keras.models import Sequential\n",
    "from tensorflow.keras.layers import Dense\n",
    "model=Sequential()\n",
    "model.add(Dense(128,input_dim=10,activation='relu'))\n",
    "model.add(Dense(64,activation='relu'))\n",
    "model.add(Dense(64,activation='relu'))\n",
    "model.add(Dense(1,activation='sigmoid'))"
   ]
  },
  {
   "cell_type": "code",
   "execution_count": 28,
   "id": "03304779",
   "metadata": {},
   "outputs": [
    {
     "name": "stdout",
     "output_type": "stream",
     "text": [
      "Epoch 1/50\n",
      "750/750 [==============================] - 3s 3ms/step - loss: 0.3343 - accuracy: 0.8599\n",
      "Epoch 2/50\n",
      "750/750 [==============================] - 2s 3ms/step - loss: 0.3293 - accuracy: 0.8640\n",
      "Epoch 3/50\n",
      "750/750 [==============================] - 2s 3ms/step - loss: 0.3232 - accuracy: 0.8663\n",
      "Epoch 4/50\n",
      "750/750 [==============================] - 2s 3ms/step - loss: 0.3228 - accuracy: 0.8669\n",
      "Epoch 5/50\n",
      "750/750 [==============================] - 2s 3ms/step - loss: 0.3180 - accuracy: 0.8660\n",
      "Epoch 6/50\n",
      "750/750 [==============================] - 2s 3ms/step - loss: 0.3120 - accuracy: 0.8685\n",
      "Epoch 7/50\n",
      "750/750 [==============================] - 2s 3ms/step - loss: 0.3096 - accuracy: 0.8701\n",
      "Epoch 8/50\n",
      "750/750 [==============================] - 2s 2ms/step - loss: 0.3046 - accuracy: 0.8711\n",
      "Epoch 9/50\n",
      "750/750 [==============================] - 2s 2ms/step - loss: 0.3028 - accuracy: 0.8747\n",
      "Epoch 10/50\n",
      "750/750 [==============================] - 2s 2ms/step - loss: 0.2985 - accuracy: 0.8748\n",
      "Epoch 11/50\n",
      "750/750 [==============================] - 2s 2ms/step - loss: 0.2936 - accuracy: 0.8765\n",
      "Epoch 12/50\n",
      "750/750 [==============================] - 2s 2ms/step - loss: 0.2893 - accuracy: 0.8787\n",
      "Epoch 13/50\n",
      "750/750 [==============================] - 2s 2ms/step - loss: 0.2823 - accuracy: 0.8809\n",
      "Epoch 14/50\n",
      "750/750 [==============================] - 2s 2ms/step - loss: 0.2800 - accuracy: 0.8845\n",
      "Epoch 15/50\n",
      "750/750 [==============================] - 2s 2ms/step - loss: 0.2744 - accuracy: 0.8852\n",
      "Epoch 16/50\n",
      "750/750 [==============================] - 2s 2ms/step - loss: 0.2708 - accuracy: 0.8869\n",
      "Epoch 17/50\n",
      "750/750 [==============================] - 2s 2ms/step - loss: 0.2626 - accuracy: 0.8889\n",
      "Epoch 18/50\n",
      "750/750 [==============================] - 2s 2ms/step - loss: 0.2585 - accuracy: 0.8887\n",
      "Epoch 19/50\n",
      "750/750 [==============================] - 2s 2ms/step - loss: 0.2524 - accuracy: 0.8941\n",
      "Epoch 20/50\n",
      "750/750 [==============================] - 2s 2ms/step - loss: 0.2465 - accuracy: 0.9008\n",
      "Epoch 21/50\n",
      "750/750 [==============================] - 2s 2ms/step - loss: 0.2415 - accuracy: 0.9008\n",
      "Epoch 22/50\n",
      "750/750 [==============================] - 2s 2ms/step - loss: 0.2416 - accuracy: 0.8995\n",
      "Epoch 23/50\n",
      "750/750 [==============================] - 2s 2ms/step - loss: 0.2284 - accuracy: 0.9012\n",
      "Epoch 24/50\n",
      "750/750 [==============================] - 2s 2ms/step - loss: 0.2252 - accuracy: 0.9028\n",
      "Epoch 25/50\n",
      "750/750 [==============================] - 2s 3ms/step - loss: 0.2167 - accuracy: 0.9095\n",
      "Epoch 26/50\n",
      "750/750 [==============================] - 2s 2ms/step - loss: 0.2160 - accuracy: 0.9085\n",
      "Epoch 27/50\n",
      "750/750 [==============================] - 2s 2ms/step - loss: 0.2095 - accuracy: 0.9107\n",
      "Epoch 28/50\n",
      "750/750 [==============================] - 2s 2ms/step - loss: 0.2032 - accuracy: 0.9125\n",
      "Epoch 29/50\n",
      "750/750 [==============================] - 2s 2ms/step - loss: 0.1984 - accuracy: 0.9179\n",
      "Epoch 30/50\n",
      "750/750 [==============================] - 2s 2ms/step - loss: 0.1953 - accuracy: 0.9168\n",
      "Epoch 31/50\n",
      "750/750 [==============================] - 1s 2ms/step - loss: 0.1918 - accuracy: 0.9192\n",
      "Epoch 32/50\n",
      "750/750 [==============================] - 2s 2ms/step - loss: 0.1805 - accuracy: 0.9249\n",
      "Epoch 33/50\n",
      "750/750 [==============================] - 2s 2ms/step - loss: 0.1797 - accuracy: 0.9272\n",
      "Epoch 34/50\n",
      "750/750 [==============================] - 2s 2ms/step - loss: 0.1755 - accuracy: 0.9273\n",
      "Epoch 35/50\n",
      "750/750 [==============================] - 2s 3ms/step - loss: 0.1678 - accuracy: 0.9295\n",
      "Epoch 36/50\n",
      "750/750 [==============================] - 2s 3ms/step - loss: 0.1573 - accuracy: 0.9336\n",
      "Epoch 37/50\n",
      "750/750 [==============================] - 2s 3ms/step - loss: 0.1611 - accuracy: 0.9311\n",
      "Epoch 38/50\n",
      "750/750 [==============================] - 2s 2ms/step - loss: 0.1559 - accuracy: 0.9369\n",
      "Epoch 39/50\n",
      "750/750 [==============================] - 2s 2ms/step - loss: 0.1487 - accuracy: 0.9352\n",
      "Epoch 40/50\n",
      "750/750 [==============================] - 2s 2ms/step - loss: 0.1499 - accuracy: 0.9373\n",
      "Epoch 41/50\n",
      "750/750 [==============================] - 2s 2ms/step - loss: 0.1433 - accuracy: 0.9411\n",
      "Epoch 42/50\n",
      "750/750 [==============================] - 2s 2ms/step - loss: 0.1363 - accuracy: 0.9428\n",
      "Epoch 43/50\n",
      "750/750 [==============================] - 2s 3ms/step - loss: 0.1398 - accuracy: 0.9403\n",
      "Epoch 44/50\n",
      "750/750 [==============================] - 2s 2ms/step - loss: 0.1337 - accuracy: 0.9437\n",
      "Epoch 45/50\n",
      "750/750 [==============================] - 2s 2ms/step - loss: 0.1309 - accuracy: 0.9460\n",
      "Epoch 46/50\n",
      "750/750 [==============================] - 2s 2ms/step - loss: 0.1222 - accuracy: 0.9509\n",
      "Epoch 47/50\n",
      "750/750 [==============================] - 2s 3ms/step - loss: 0.1167 - accuracy: 0.9521\n",
      "Epoch 48/50\n",
      "750/750 [==============================] - 2s 3ms/step - loss: 0.1255 - accuracy: 0.9463\n",
      "Epoch 49/50\n",
      "750/750 [==============================] - 2s 2ms/step - loss: 0.1192 - accuracy: 0.9508\n",
      "Epoch 50/50\n",
      "750/750 [==============================] - 2s 2ms/step - loss: 0.1072 - accuracy: 0.9552\n",
      "1/1 [==============================] - 0s 131ms/step\n",
      "[[0.01049079]]\n"
     ]
    }
   ],
   "source": [
    "model.compile(loss='binary_crossentropy',optimizer='adam',metrics=['accuracy'])\n",
    "model.fit(x_train,y_train,batch_size=10,epochs=50)\n",
    "print(model.predict(sc.transform([[619,0,0,42,2,40000,1,1,1,101348]])))"
   ]
  },
  {
   "cell_type": "code",
   "execution_count": 1,
   "id": "eb338bcc",
   "metadata": {},
   "outputs": [
    {
     "name": "stdout",
     "output_type": "stream",
     "text": [
      "     Pregnancies  Glucose  BloodPressure  SkinThickness  Insulin   BMI  \\\n",
      "0              6      148             72             35        0  33.6   \n",
      "1              1       85             66             29        0  26.6   \n",
      "2              8      183             64              0        0  23.3   \n",
      "3              1       89             66             23       94  28.1   \n",
      "4              0      137             40             35      168  43.1   \n",
      "..           ...      ...            ...            ...      ...   ...   \n",
      "763           10      101             76             48      180  32.9   \n",
      "764            2      122             70             27        0  36.8   \n",
      "765            5      121             72             23      112  26.2   \n",
      "766            1      126             60              0        0  30.1   \n",
      "767            1       93             70             31        0  30.4   \n",
      "\n",
      "     DiabetesPedigreeFunction  Age  Outcome  \n",
      "0                       0.627   50        1  \n",
      "1                       0.351   31        0  \n",
      "2                       0.672   32        1  \n",
      "3                       0.167   21        0  \n",
      "4                       2.288   33        1  \n",
      "..                        ...  ...      ...  \n",
      "763                     0.171   63        0  \n",
      "764                     0.340   27        0  \n",
      "765                     0.245   30        0  \n",
      "766                     0.349   47        1  \n",
      "767                     0.315   23        0  \n",
      "\n",
      "[768 rows x 9 columns]\n"
     ]
    }
   ],
   "source": [
    "import pandas as pd\n",
    "df=pd.read_csv(\"Diabetes.csv\")\n",
    "print(df)"
   ]
  },
  {
   "cell_type": "code",
   "execution_count": 12,
   "id": "0ee3fe96",
   "metadata": {},
   "outputs": [
    {
     "name": "stdout",
     "output_type": "stream",
     "text": [
      "[[148.     72.     35.    ...   0.627  50.      1.   ]\n",
      " [ 85.     66.     29.    ...   0.351  31.      0.   ]\n",
      " [183.     64.      0.    ...   0.672  32.      1.   ]\n",
      " ...\n",
      " [121.     72.     23.    ...   0.245  30.      0.   ]\n",
      " [126.     60.      0.    ...   0.349  47.      1.   ]\n",
      " [ 93.     70.     31.    ...   0.315  23.      0.   ]]\n"
     ]
    }
   ],
   "source": [
    "x=df.iloc[:,1:9].values\n",
    "print(x)"
   ]
  },
  {
   "cell_type": "code",
   "execution_count": 6,
   "id": "c7a9bbec",
   "metadata": {},
   "outputs": [
    {
     "name": "stdout",
     "output_type": "stream",
     "text": [
      "[1 0 1 0 1 0 1 0 1 1 0 1 0 1 1 1 1 1 0 1 0 0 1 1 1 1 1 0 0 0 0 1 0 0 0 0 0\n",
      " 1 1 1 0 0 0 1 0 1 0 0 1 0 0 0 0 1 0 0 1 0 0 0 0 1 0 0 1 0 1 0 0 0 1 0 1 0\n",
      " 0 0 0 0 1 0 0 0 0 0 1 0 0 0 1 0 0 0 0 1 0 0 0 0 0 1 1 0 0 0 0 0 0 0 0 1 1\n",
      " 1 0 0 1 1 1 0 0 0 1 0 0 0 1 1 0 0 1 1 1 1 1 0 0 0 0 0 0 0 0 0 0 1 0 0 0 0\n",
      " 0 0 0 0 1 0 1 1 0 0 0 1 0 0 0 0 1 1 0 0 0 0 1 1 0 0 0 1 0 1 0 1 0 0 0 0 0\n",
      " 1 1 1 1 1 0 0 1 1 0 1 0 1 1 1 0 0 0 0 0 0 1 1 0 1 0 0 0 1 1 1 1 0 1 1 1 1\n",
      " 0 0 0 0 0 1 0 0 1 1 0 0 0 1 1 1 1 0 0 0 1 1 0 1 0 0 0 0 0 0 0 0 1 1 0 0 0\n",
      " 1 0 1 0 0 1 0 1 0 0 1 1 0 0 0 0 0 1 0 0 0 1 0 0 1 1 0 0 1 0 0 0 1 1 1 0 0\n",
      " 1 0 1 0 1 1 0 1 0 0 1 0 1 1 0 0 1 0 1 0 0 1 0 1 0 1 1 1 0 0 1 0 1 0 0 0 1\n",
      " 0 0 0 0 1 1 1 0 0 0 0 0 0 0 0 0 1 0 0 0 0 0 1 1 1 0 1 1 0 0 1 0 0 1 0 0 1\n",
      " 1 0 0 0 0 1 0 0 1 0 0 0 0 0 0 0 1 1 1 0 0 1 0 0 1 0 0 1 0 1 1 0 1 0 1 0 1\n",
      " 0 1 1 0 0 0 0 1 1 0 1 0 1 0 0 0 0 1 1 0 1 0 1 0 0 0 0 0 1 0 0 0 0 1 0 0 1\n",
      " 1 1 0 0 1 0 0 1 0 0 0 1 0 0 1 0 0 0 0 0 0 0 0 0 1 0 0 0 0 0 0 0 1 0 0 0 1\n",
      " 0 0 0 1 1 0 0 0 0 0 0 0 1 0 0 0 0 1 0 0 0 1 0 0 0 1 0 0 0 1 0 0 0 0 1 1 0\n",
      " 0 0 0 0 0 1 0 0 0 0 0 0 0 0 0 0 0 1 0 0 0 1 1 1 1 0 0 1 1 0 0 0 0 0 0 0 0\n",
      " 0 0 0 0 0 1 1 0 0 0 0 0 0 0 1 0 0 0 0 0 0 0 1 0 1 1 0 0 0 1 0 1 0 1 0 1 0\n",
      " 1 0 0 1 0 0 1 0 0 0 0 1 1 0 1 0 0 0 0 1 1 0 1 0 0 0 1 1 0 0 0 0 0 0 0 0 0\n",
      " 0 1 0 0 0 0 1 0 0 1 0 0 0 1 0 0 0 1 1 1 0 0 0 0 0 0 1 0 0 0 1 0 1 1 1 1 0\n",
      " 1 1 0 0 0 0 0 0 0 1 1 0 1 0 0 1 0 1 0 0 0 0 0 1 0 1 0 1 0 1 1 0 0 0 0 1 1\n",
      " 0 0 0 1 0 1 1 0 0 1 0 0 1 1 0 0 1 0 0 1 0 0 0 0 0 0 0 1 1 1 0 0 0 0 0 0 1\n",
      " 1 0 0 1 0 0 1 0 1 1 1 0 0 1 1 1 0 1 0 1 0 1 0 0 0 0 1 0]\n"
     ]
    }
   ],
   "source": [
    "y=df.iloc[:,8].values\n",
    "print(y)"
   ]
  },
  {
   "cell_type": "code",
   "execution_count": 7,
   "id": "45c76ccb",
   "metadata": {},
   "outputs": [
    {
     "name": "stdout",
     "output_type": "stream",
     "text": [
      "1.0\n"
     ]
    }
   ],
   "source": [
    "from sklearn.model_selection import train_test_split\n",
    "x_train,x_test,y_train,y_test=train_test_split(x,y,test_size=25,random_state=1)\n",
    "from sklearn.preprocessing import MinMaxScaler\n",
    "se=MinMaxScaler()\n",
    "x_train=se.fit_transform(x_train)\n",
    "x_test=se.transform(x_test)\n",
    "\n",
    "from sklearn.svm import SVC\n",
    "sv=SVC(kernel='linear',random_state=1)\n",
    "sv.fit(x_train,y_train)\n",
    "y_pred=sv.predict(x_test)\n",
    "from sklearn.metrics import accuracy_score\n",
    "acc=accuracy_score(y_test,y_pred)\n",
    "print(acc)"
   ]
  },
  {
   "cell_type": "code",
   "execution_count": 11,
   "id": "920419c2",
   "metadata": {},
   "outputs": [
    {
     "name": "stdout",
     "output_type": "stream",
     "text": [
      "[[148.     72.     35.    ...  33.6     0.627  50.   ]\n",
      " [ 85.     66.     29.    ...  26.6     0.351  31.   ]\n",
      " [183.     64.      0.    ...  23.3     0.672  32.   ]\n",
      " ...\n",
      " [121.     72.     23.    ...  26.2     0.245  30.   ]\n",
      " [126.     60.      0.    ...  30.1     0.349  47.   ]\n",
      " [ 93.     70.     31.    ...  30.4     0.315  23.   ]]\n",
      "[[ 0.21873596  0.55814195 -1.28049177 ...  0.33149642 -1.00826089\n",
      "   0.99557107]\n",
      " [-0.27988975  0.86704287  1.35220201 ...  0.81874043 -0.69098381\n",
      "  -0.44470589]\n",
      " [ 1.34064379  0.7640759   0.03585512 ... -0.15574758  1.12869355\n",
      "  -0.1058172 ]\n",
      " ...\n",
      " [ 0.15640774  1.07297681 -1.28049177 ...  1.45985095  0.35727477\n",
      "   0.74140454]\n",
      " [ 1.55879254  0.14627407 -1.28049177 ...  1.48549538  0.03377657\n",
      "  -0.61415024]\n",
      " [-0.59153081  0.35220801  1.03878608 ...  0.11351884  0.61234066\n",
      "   1.08029324]]\n",
      "0.32\n"
     ]
    }
   ],
   "source": [
    "import pandas as pd\n",
    "df=pd.read_csv(\"Diabetes.csv\")\n",
    "x=df.iloc[:,1:8].values\n",
    "print(x)\n",
    "y=df.iloc[:,8].values\n",
    "\n",
    "from sklearn.model_selection import train_test_split\n",
    "x_train,x_test,y_train,y_test=train_test_split(x,y,test_size=25,random_state=1)\n",
    "from sklearn.preprocessing import StandardScaler\n",
    "sc=StandardScaler()\n",
    "x_train=sc.fit_transform(x_train)\n",
    "print(x_train)\n",
    "\n",
    "from sklearn.svm import SVC\n",
    "sv=SVC(kernel='linear',random_state=1)\n",
    "sv.fit(x_train,y_train)\n",
    "y_pred=sv.predict(x_test)\n",
    "from sklearn.metrics import accuracy_score\n",
    "acc=accuracy_score(y_test,y_pred)\n",
    "print(acc)"
   ]
  },
  {
   "cell_type": "code",
   "execution_count": null,
   "id": "363e44fe",
   "metadata": {},
   "outputs": [],
   "source": []
  },
  {
   "cell_type": "code",
   "execution_count": 19,
   "id": "3aeee616",
   "metadata": {},
   "outputs": [
    {
     "data": {
      "image/png": "[encoded data removed]",
      "text/plain": [
       "<Figure size 640x480 with 1 Axes>"
      ]
     },
     "metadata": {},
     "output_type": "display_data"
    }
   ],
   "source": [
    "import matplotlib.pyplot as plt\n",
    "plt.plot(x,y)\n",
    "plt.plot(range(1,8))\n",
    "plt.xlabel(\"BloodPressure\")\n",
    "plt.ylabel(\"DiabetesPedigreeFunction\")\n",
    "plt.show()"
   ]
  },
  {
   "cell_type": "code",
   "execution_count": 21,
   "id": "b6a866e9",
   "metadata": {},
   "outputs": [
    {
     "name": "stdout",
     "output_type": "stream",
     "text": [
      "Pregnancies                 0\n",
      "Glucose                     0\n",
      "BloodPressure               0\n",
      "SkinThickness               0\n",
      "Insulin                     0\n",
      "BMI                         0\n",
      "DiabetesPedigreeFunction    0\n",
      "Age                         0\n",
      "Outcome                     0\n",
      "dtype: int64\n"
     ]
    }
   ],
   "source": [
    "import pandas as pd\n",
    "df=pd.read_csv(\"Diabetes.csv\")\n",
    "df.head\n",
    "print(df.isnull().sum())"
   ]
  },
  {
   "cell_type": "code",
   "execution_count": 1,
   "id": "dd000c3b",
   "metadata": {},
   "outputs": [
    {
     "name": "stdout",
     "output_type": "stream",
     "text": [
      "hello world\n"
     ]
    }
   ],
   "source": [
    "print('hello world')"
   ]
  },
  {
   "cell_type": "code",
   "execution_count": 2,
   "id": "7a678961",
   "metadata": {},
   "outputs": [
    {
     "name": "stdout",
     "output_type": "stream",
     "text": [
      "Coursera\n"
     ]
    }
   ],
   "source": [
    "print(\"Coursera\")"
   ]
  },
  {
   "cell_type": "code",
   "execution_count": 3,
   "id": "ef3e80b8",
   "metadata": {},
   "outputs": [
    {
     "name": "stdout",
     "output_type": "stream",
     "text": [
      "20\n"
     ]
    }
   ],
   "source": [
    "X = 15\n",
    "X = X + 5\n",
    "print(X)"
   ]
  },
  {
   "cell_type": "code",
   "execution_count": 2,
   "id": "535297b8",
   "metadata": {},
   "outputs": [
    {
     "name": "stdout",
     "output_type": "stream",
     "text": [
      "DFA States: [{'q1', 'q0'}, {'q1'}, {'q2', 'q1', 'q0'}]\n",
      "DFA Transitions: {('q1', 'q0'): {'0': {'q1'}, '1': {'q2', 'q1', 'q0'}}, ('q2', 'q1', 'q0'): {'0': {'q1'}, '1': {'q2', 'q1', 'q0'}}, ('q1',): {'0': {'q1'}, '1': {'q2', 'q1', 'q0'}}}\n",
      "DFA Start State: {'q1', 'q0'}\n",
      "DFA Accept States: [{'q2', 'q1', 'q0'}]\n"
     ]
    }
   ],
   "source": [
    "class NFA:\n",
    "    def __init__(self, states, alphabet, transitions, start_state, accept_states):\n",
    "        self.states = states\n",
    "        self.alphabet = alphabet\n",
    "        self.transitions = transitions\n",
    "        self.start_state = start_state\n",
    "        self.accept_states = accept_states\n",
    "def epsilon_closure(states, transitions):\n",
    "    eclosure = set(states)\n",
    "    stack = list(states)\n",
    "    while stack:\n",
    "        state = stack.pop()\n",
    "        if state in transitions and 'epsilon' in transitions[state]:\n",
    "            for next_state in transitions[state]['epsilon']:\n",
    "                if next_state not in eclosure:\n",
    "                    eclosure.add(next_state)\n",
    "                    stack.append(next_state)\n",
    "    return eclosure\n",
    "def move(states, transitions, symbol):\n",
    "    result = set()\n",
    "    for state in states:\n",
    "        if state in transitions and symbol in transitions[state]:\n",
    "            result.update(transitions[state][symbol])\n",
    "    return result\n",
    "def nfa_to_dfa(nfa):\n",
    "    dfa_states = []  \n",
    "    dfa_transitions = {}  \n",
    "    dfa_start_state = epsilon_closure({nfa.start_state}, nfa.transitions)  \n",
    "    dfa_accept_states = [] \n",
    "    dfa_states.append(dfa_start_state)\n",
    "    stack = [dfa_start_state]\n",
    "    while stack:\n",
    "        current_state = stack.pop()\n",
    "        if current_state not in dfa_accept_states:\n",
    "            for symbol in nfa.alphabet:\n",
    "                target_state = epsilon_closure(move(current_state, nfa.transitions, symbol), nfa.transitions)\n",
    "                if target_state not in dfa_states:\n",
    "                    dfa_states.append(target_state)\n",
    "                    stack.append(target_state)\n",
    "                dfa_transitions.setdefault(tuple(current_state), {})[symbol] = target_state\n",
    "        if any(state in nfa.accept_states for state in current_state):\n",
    "            dfa_accept_states.append(current_state)\n",
    "    return DFA(dfa_states, nfa.alphabet, dfa_transitions, dfa_start_state, dfa_accept_states)\n",
    "class DFA:\n",
    "    def __init__(self, states, alphabet, transitions, start_state, accept_states):\n",
    "        self.states = states\n",
    "        self.alphabet = alphabet\n",
    "        self.transitions = transitions\n",
    "        self.start_state = start_state\n",
    "        self.accept_states = accept_states\n",
    "nfa = NFA(\n",
    "    states={'q0', 'q1', 'q2'},\n",
    "    alphabet={'0', '1'},\n",
    "    transitions={\n",
    "        'q0': {'epsilon': {'q1'}},\n",
    "        'q1': {'0': {'q1'}, '1': {'q1', 'q2'}},\n",
    "        'q2': {'epsilon': {'q0'}}\n",
    "    },\n",
    "    start_state='q0',\n",
    "    accept_states={'q2'} )\n",
    "dfa = nfa_to_dfa(nfa)\n",
    "print(\"DFA States:\", dfa.states)\n",
    "print(\"DFA Transitions:\", dfa.transitions)\n",
    "print(\"DFA Start State:\", dfa.start_state)\n",
    "print(\"DFA Accept States:\", dfa.accept_states)"
   ]
  },
  {
   "cell_type": "code",
   "execution_count": null,
   "id": "0fa8fda3",
   "metadata": {},
   "outputs": [],
   "source": []
  }
 ],
 "metadata": {
  "kernelspec": {
   "display_name": "Python 3 (ipykernel)",
   "language": "python",
   "name": "python3"
  },
  "language_info": {
   "codemirror_mode": {
    "name": "ipython",
    "version": 3
   },
   "file_extension": ".py",
   "mimetype": "text/x-python",
   "name": "python",
   "nbconvert_exporter": "python",
   "pygments_lexer": "ipython3",
   "version": "3.9.13"
  }
 },
 "nbformat": 4,
 "nbformat_minor": 5
}
